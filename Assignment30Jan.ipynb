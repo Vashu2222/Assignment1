{
 "cells": [
  {
   "cell_type": "code",
   "execution_count": null,
   "id": "fada1003-115a-4a12-89e3-997515b5e9c3",
   "metadata": {},
   "outputs": [],
   "source": [
    "marks = int(input(\"enter your marks\"))\n",
    "if marks > 90 :\n",
    "    print(\"A\")\n",
    "elif marks > 80 and marks <=90:\n",
    "    print(\"B\")\n",
    "elif marks >= 60 and marks <=80:\n",
    "    print(\"C\")\n",
    "else :\n",
    "    print(\"D\")"
   ]
  },
  {
   "cell_type": "code",
   "execution_count": null,
   "id": "5be596ba-e224-4dbb-a1c0-da5ed028d0fe",
   "metadata": {},
   "outputs": [],
   "source": [
    "price = int(input(\"enter price\"))\n",
    "if price > 100000 :\n",
    "    print(\"15%\")\n",
    "if price >50000 and price <= 100000:\n",
    "    print(\"10%\")\n",
    "if price <= 50000 :\n",
    "    print(\"5%\")"
   ]
  },
  {
   "cell_type": "code",
   "execution_count": null,
   "id": "58e3a608-c035-4593-b9fe-b298e396cd4f",
   "metadata": {},
   "outputs": [],
   "source": [
    "city = str(input(\"display monuments of that city\"))\n",
    "if city == \"Delhi\":\n",
    "    print(\"Red Fort\")\n",
    "if city == \"Agra\" :\n",
    "    print(\"Taj Mahal\")\n",
    "if city == \"Jaipur\":\n",
    "    print(\"Jal Mahal\")"
   ]
  },
  {
   "cell_type": "code",
   "execution_count": null,
   "id": "9f10718c-5634-4217-a09f-133d05e1f1f4",
   "metadata": {},
   "outputs": [],
   "source": [
    "n = int(input(\"Given number\"))\n",
    "i = 3 \n",
    "while i <= 10 :\n",
    "    result = n / i\n",
    "    print (n, \"/\" , i , result )\n",
    "    break"
   ]
  },
  {
   "cell_type": "code",
   "execution_count": null,
   "id": "0ac55b8c-7f29-4b97-a970-39fed750d856",
   "metadata": {},
   "outputs": [],
   "source": [
    "With the while loop we can execute a set of statements as long as a condition is true.\n",
    "i = 1\n",
    "while i < 6:\n",
    "  print(i)\n",
    "  i += 1"
   ]
  },
  {
   "cell_type": "code",
   "execution_count": 7,
   "id": "1614d60c-a202-4785-81f2-fc6ca7ffb71d",
   "metadata": {},
   "outputs": [
    {
     "name": "stdout",
     "output_type": "stream",
     "text": [
      "1 \n",
      "1 2 \n",
      "1 2 3 \n",
      "1 2 3 4 \n",
      "1 2 3 4 5 \n",
      "1 2 3 4 5 6 \n"
     ]
    }
   ],
   "source": [
    "i = 1\n",
    "while i <= 6:\n",
    "    j =1\n",
    "    while j <=i:\n",
    "        print(j,end=\" \")\n",
    "        j=j+1\n",
    "    print(\"\")\n",
    "    i = i +1\n",
    "        "
   ]
  },
  {
   "cell_type": "code",
   "execution_count": 2,
   "id": "4b496177-7c4d-499d-96d4-ea689e8e81fb",
   "metadata": {},
   "outputs": [
    {
     "name": "stdout",
     "output_type": "stream",
     "text": [
      "10\n",
      "9\n",
      "8\n",
      "7\n",
      "6\n",
      "5\n",
      "4\n",
      "3\n",
      "2\n",
      "1\n"
     ]
    }
   ],
   "source": [
    "i = 10\n",
    "while i >0:\n",
    "    print(i)\n",
    "    i = i -1"
   ]
  },
  {
   "cell_type": "code",
   "execution_count": 3,
   "id": "def5adde-7526-463c-b23a-2922553ae6b7",
   "metadata": {},
   "outputs": [],
   "source": [
    "#8th question is same as 7th question but i think this is typo error that's why i consider from 1 to 10."
   ]
  },
  {
   "cell_type": "code",
   "execution_count": 5,
   "id": "98d3a74d-8b23-4b88-8f09-b1bb54dbcd92",
   "metadata": {},
   "outputs": [
    {
     "name": "stdout",
     "output_type": "stream",
     "text": [
      "1\n",
      "2\n",
      "3\n",
      "4\n",
      "5\n",
      "6\n",
      "7\n",
      "8\n",
      "9\n",
      "10\n"
     ]
    }
   ],
   "source": [
    "i = 1 \n",
    "while i <= 10:\n",
    "    print(i)\n",
    "    i +=1"
   ]
  },
  {
   "cell_type": "code",
   "execution_count": null,
   "id": "658c2174-e869-473d-98ff-9260869adf04",
   "metadata": {},
   "outputs": [],
   "source": []
  }
 ],
 "metadata": {
  "kernelspec": {
   "display_name": "Python 3 (ipykernel)",
   "language": "python",
   "name": "python3"
  },
  "language_info": {
   "codemirror_mode": {
    "name": "ipython",
    "version": 3
   },
   "file_extension": ".py",
   "mimetype": "text/x-python",
   "name": "python",
   "nbconvert_exporter": "python",
   "pygments_lexer": "ipython3",
   "version": "3.10.8"
  }
 },
 "nbformat": 4,
 "nbformat_minor": 5
}
